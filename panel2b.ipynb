{
 "cells": [
  {
   "cell_type": "code",
   "execution_count": 1,
   "id": "3c75bed0-3e02-4c8a-b6e5-0ba6dbf83a0c",
   "metadata": {},
   "outputs": [],
   "source": [
    "#!/usr/bin/env python3\n",
    "# -*- coding: utf-8 -*-\n",
    "\"\"\"\n",
    "Created on Wed Feb 12 15:02:53 2025\n",
    "\n",
    "@author: yuhanyao\n",
    "\"\"\"\n",
    "\n",
    "import os\n",
    "import time\n",
    "import numpy as np\n",
    "import astropy.io.ascii as asci\n",
    "from scipy.stats import poisson\n",
    "\n",
    "from scipy.integrate import simpson\n",
    "from astropy.io import fits\n",
    "import astropy.constants as const\n",
    "import astropy.constants as const\n",
    "\n",
    "import matplotlib\n",
    "import matplotlib.pyplot as plt\n",
    "from matplotlib.lines import Line2D\n",
    "\n",
    "from astropy.cosmology import FlatLambdaCDM\n",
    "cosmo = FlatLambdaCDM(H0=70., Om0=0.3)\n",
    "\n",
    "from plot_roman_lightcurve import cc_bol\n",
    "\n",
    "fs= 12\n",
    "matplotlib.rcParams['font.size']=fs\n",
    "ms = 6\n",
    "matplotlib.rcParams['lines.markersize']=ms\n"
   ]
  },
  {
   "cell_type": "code",
   "execution_count": 2,
   "id": "55690805-e890-4c68-b0a1-e545bfb02c34",
   "metadata": {},
   "outputs": [],
   "source": [
    "lamb_obs_um = 1 \n",
    "golden_ratio = 1.618\n",
    "\n",
    "fig_width = 6\n",
    "fig_height = fig_width/golden_ratio"
   ]
  },
  {
   "cell_type": "code",
   "execution_count": 3,
   "id": "aca463d6-112a-4f9f-9982-2f2e03a63d25",
   "metadata": {},
   "outputs": [],
   "source": [
    "def compute_universe_size():\n",
    "    zs = np.array([0.1, 0.5, 1,2,3,6,10])\n",
    "    Vs_Gpc3 = np.zeros(len(zs))\n",
    "    for i in range(len(zs)):\n",
    "        z = zs[i]\n",
    "        D_Mpc = cosmo.comoving_distance([z])[0].value \n",
    "        V_Mpc3 = 4*np.pi / 3 * D_Mpc**3\n",
    "        Vs_Gpc3[i] = V_Mpc3 / 1e+9\n",
    "    \n",
    "    plt.plot(zs, Vs_Gpc3, \"o\")\n",
    "    plt.semilogy()\n",
    "    plt.semilogx()\n",
    "    plt.xlabel(\"z\")\n",
    "    plt.ylabel(\"Comoving volume (Gpc^3)\")\n",
    "    \n",
    "    \n",
    "def get_gmf_z(z = 4, lgxs = np.linspace(7, 11.5)):\n",
    "    \"\"\"\n",
    "    get galaxy stellar mass function \n",
    "    \"\"\"\n",
    "    xs = 10**lgxs\n",
    "    \n",
    "    if z==0:\n",
    "        # Wright+2017\n",
    "        lgM0 = 10.84\n",
    "        lgphi1 = -4.30\n",
    "        alpha1 = -0.\n",
    "        lgphi2 = -3.94\n",
    "        alpha2 = -1.79\n",
    "        M0 = 10**lgM0\n",
    "        phi1 = 10**lgphi1\n",
    "        phi2 = 10**lgphi2\n",
    "        phi = np.log(10) * np.exp(-(xs/M0)) * (xs/M0) * (phi1 * (xs/M0)**alpha1 + phi2 * (xs/M0)**alpha2)\n",
    "        \n",
    "    elif z>=4:\n",
    "        # Song+2016\n",
    "        if z<4.5:\n",
    "            lgM0 = 10.50\n",
    "            alpha = -1.55\n",
    "            phi0 = 25.68e-5\n",
    "        elif z<5.5:\n",
    "            lgM0 = 10.97\n",
    "            alpha = -1.70\n",
    "            phi0 = 5.16e-5\n",
    "        elif z<6.5:\n",
    "            lgM0 = 10.72\n",
    "            alpha = -1.91\n",
    "            phi0 = 1.35e-5\n",
    "        elif z<7.5:\n",
    "            lgM0 = 10.78\n",
    "            alpha = -1.95\n",
    "            phi0 = 0.53e-5\n",
    "        else:\n",
    "            lgM0 = 10.72\n",
    "            alpha = -2.25\n",
    "            phi0 = 0.035e-5\n",
    "        M0 = 10**lgM0\n",
    "            \n",
    "        phi = phi0 * (xs/M0) * (xs/M0)**alpha * np.exp(-(xs/M0))\n",
    "    else:\n",
    "        # Mcleod+2021\n",
    "        if z<=0.75:#z==0.5:\n",
    "            lgM0 = 10.80\n",
    "            lgphi1 = -2.77\n",
    "            alpha1 = -0.61\n",
    "            lgphi2 = -3.26\n",
    "            alpha2 = -1.52\n",
    "        elif z<=1.25:#z==1.0:\n",
    "            lgM0 = 10.72\n",
    "            lgphi1 = -2.80\n",
    "            alpha1 = -0.46\n",
    "            lgphi2 = -3.26\n",
    "            alpha2 = -1.53\n",
    "        elif z<=1.75:#z==1.5:\n",
    "            lgM0 = 10.72\n",
    "            lgphi1 = -2.94\n",
    "            alpha1 = -0.55\n",
    "            lgphi2 = -3.54\n",
    "            alpha2 = -1.65\n",
    "        elif z<=2.25:#z==2.0:\n",
    "            lgM0 = 10.77\n",
    "            lgphi1 = -3.18\n",
    "            alpha1 = -0.68\n",
    "            lgphi2 = -3.84\n",
    "            alpha2 = -1.73\n",
    "        elif z<=2.88:#z==2.5:\n",
    "            lgM0 = 10.77\n",
    "            lgphi1 = -3.39\n",
    "            alpha1 = -0.62\n",
    "            lgphi2 = -3.78\n",
    "            alpha2 = -1.74\n",
    "        else:# z==3.25:\n",
    "            lgM0 = 10.84\n",
    "            lgphi1 = -4.30\n",
    "            alpha1 = -0.\n",
    "            lgphi2 = -3.94\n",
    "            alpha2 = -1.79\n",
    "        M0 = 10**lgM0\n",
    "        phi1 = 10**lgphi1\n",
    "        phi2 = 10**lgphi2\n",
    "        phi = np.log(10) * np.exp(-(xs/M0)) * (xs/M0) * (phi1 * (xs/M0)**alpha1 + phi2 * (xs/M0)**alpha2)\n",
    "        \n",
    "    return phi"
   ]
  },
  {
   "cell_type": "code",
   "execution_count": 4,
   "id": "f1878271-75cc-46e7-bf3e-559ed1d28ceb",
   "metadata": {},
   "outputs": [],
   "source": [
    "def planck_nu(T, Rbb, nu):\n",
    "    '''\n",
    "    T in the unit of K\n",
    "    Rbb in the unit of Rsun\n",
    "    lamb in the unit of Hz\n",
    "    '''\n",
    "    x = const.h.cgs.value * nu / (const.k_B.cgs.value * T)\n",
    "    x = np.array(x)\n",
    "    # erg/cm2/Ang/sr/s/Hz\n",
    "    Bnu = (2. * const.h.cgs.value * nu**3 ) /  ( const.c.cgs.value**2 ) / (np.exp(x) - 1. ) \n",
    "    spec = Bnu\n",
    "    # convert back to ANGSTROM   \n",
    "    Rbb *= const.R_sun.cgs.value\n",
    "    spec1 = spec * (4. * np.pi * Rbb**2) * np.pi # erg/Hz/s\n",
    "    # spec1 *= 1./ (4*np.pi*D**2) to correct for distance\n",
    "    return spec1\n",
    "\n",
    "\n",
    "def plot_gmf_z():\n",
    "    lgxs = np.linspace(7, 12)\n",
    "    zs = np.array([0.5, 1.0, 1.5, 2.0, 2.5, 3.25, 4, 5,6,7,8])\n",
    "    \n",
    "    plt.figure()\n",
    "    ax = plt.subplot(111)\n",
    "    for i in range(len(zs)):\n",
    "        z = zs[i]\n",
    "        phi = get_gmf_z(z, lgxs)\n",
    "        \n",
    "        ax.plot(lgxs, phi, label = \"z=%.2f\"%z)\n",
    "        \n",
    "        mask = (lgxs >= 9)\n",
    "        x_selected = lgxs[mask]\n",
    "        y_selected = phi[mask]\n",
    "        \n",
    "        # Perform numerical integration using Simpson's rule\n",
    "        n = simpson(y_selected, x=x_selected)\n",
    "        print (z, n)\n",
    "    ax.semilogy()\n",
    "    ax.legend(ncol = 2)\n",
    "    ax.set_xlim(8, 11.5)\n",
    "    ax.set_ylim(1e-7, 1e-1)\n",
    "    ax.set_xlabel(\"log(M/Msun)\")\n",
    "    ax.set_ylabel(\"# / dex / Mpc^3\")\n",
    "    \n",
    "    \n",
    "def age_to_redshift(age_Gyr):\n",
    "    \"\"\"\n",
    "    Convert the age of the universe (in Gyr) to redshift using the Planck18 cosmology.\n",
    "    \n",
    "    Parameters:\n",
    "    age_Gyr (float): Age of the universe in gigayears (Gyr)\n",
    "    \n",
    "    Returns:\n",
    "    float: Corresponding redshift (z)\n",
    "    \"\"\"\n",
    "    from scipy.optimize import brentq\n",
    "    \n",
    "    # Function to find root (i.e., where age(z) matches the input age)\n",
    "    def age_difference(z):\n",
    "        return cosmo.age(z).value - age_Gyr\n",
    "\n",
    "    # Solve for redshift, assuming z is in the range (0, 20)\n",
    "    z_sol = brentq(age_difference, 0, 20)\n",
    "    return z_sol"
   ]
  },
  {
   "cell_type": "code",
   "execution_count": 5,
   "id": "7910df19-7f54-4ac3-8f60-4cd5f9f6b5a0",
   "metadata": {},
   "outputs": [],
   "source": [
    "# age_univs = np.array([1, 2, 3,4,5, 6,7,8,9,10])\n",
    "# age_univs_bounds = np.array([1, 2, 3,4,5, 6,7,8,9,10,11])-0.5\n",
    "# _zs = np.array([age_to_redshift(x) for x in age_univs])\n",
    "# _zs_bounds = np.array([age_to_redshift(x) for x in age_univs_bounds])\n",
    "# zs = _zs[::-1]\n",
    "# zs_bounds =  _zs_bounds[::-1]\n",
    "\n",
    "# zs = np.array([0.5, 1.0, 1.5, 2.0, 2.5, 3.25, 4, 5,6,7,8])\n",
    "# zs_bounds = np.array([0.3, 0.75, 1.25, 1.75, 2.25, 2.8, 3.7, 4.5, 5.5, 6.5, 7.5, 8.5])\n",
    "# zs_left = zs_bounds[:-1]\n",
    "# zs_right = zs_bounds[1:]\n",
    "\n",
    "# zs, zs_bounds\n",
    "n_step = 19\n",
    "zs = np.linspace(0.0, 6., n_step)[1:]\n",
    "step = zs[-1] - zs[-2]\n",
    "zs -= 0.5*step\n",
    "\n",
    "zs_left = zs - 0.5 * step\n",
    "zs_left[0] = 0.\n",
    "zs_right = zs + 0.5 * step\n",
    "\n",
    "filename_in = \"./data/yao2023_tde.dat\"\n",
    "\n",
    "lamb_obs_cm = lamb_obs_um/1e+4\n",
    "nu_obs = const.c.cgs.value / lamb_obs_cm\n",
    "\n",
    "\n",
    "tb = asci.read(filename_in)\n",
    "\n",
    "verbose = False\n",
    "if verbose:\n",
    "    plt.figure()\n",
    "    plt.plot(tb[\"mass_SS\"], tb[\"lgLbb\"], \"o\")\n",
    "    plt.plot([10, 10], [43, 45.5], \"--\")\n",
    "    plt.plot([10.5, 10.5], [43, 45.5], \":\")\n",
    "    plt.plot([11, 11], [43, 45.5], \"-.\")\n",
    "    \n",
    "grp = np.zeros(len(tb))\n",
    "ix1 = tb[\"mass_SS\"]<10\n",
    "ix2 = (tb[\"mass_SS\"]>=10)&(tb[\"mass_SS\"]<10.5)\n",
    "grp[ix1] = 1\n",
    "grp[ix2] = 2\n",
    "grp[(~ix1)&(~ix2)] = 3\n",
    "\n",
    "D_pcs = cosmo.luminosity_distance([zs])[0].value * 1e+6 \n",
    "D_cms = D_pcs * const.pc.cgs.value\n",
    "    \n",
    "mpeaks = np.zeros((len(tb), len(zs)))\n",
    "\n",
    "for i in range(len(tb)):\n",
    "    lgTbb = tb[\"lgTbb\"][i]\n",
    "    lgLbb = tb[\"lgLbb\"][i]\n",
    "    \n",
    "    for j in range(len(zs)):\n",
    "        z = zs[j]\n",
    "        \n",
    "        nu_rest = nu_obs * (1+z)\n",
    "        nuLnu_rest = 10**lgLbb * cc_bol(10**lgTbb, nu=nu_rest)\n",
    "        Lnu_obs = nuLnu_rest / nu_obs\n",
    "        \n",
    "        mpeaks[i, j] = -2.5 * np.log10(Lnu_obs / (4 * np.pi* D_cms[j]**2)/3631e-23)\n",
    "    \n",
    "# This is not the most accurate way to do this, but is order of magnitude correct\n",
    "r12_avg = 3e-5 # rate per galaxy per yr from 10^9 to 10^10.5 Msun\n",
    "r3_avg = 1e-6 # rate per galaxy per yr from 10^10.5 to 10^11 Msun\n",
    "\n",
    "\n",
    "n1s = np.zeros(len(zs))\n",
    "n2s = np.zeros(len(zs))\n",
    "n3s = np.zeros(len(zs))\n",
    "for i in range(len(zs)):\n",
    "    myz = zs[i]\n",
    "\n",
    "    lgxs = np.linspace(8, 12)\n",
    "    phi = get_gmf_z(myz, lgxs)\n",
    "    \n",
    "    mask1 = (lgxs >= 9)&(lgxs < 10)\n",
    "    mask2 = (lgxs >= 10)&(lgxs < 10.5)\n",
    "    mask3 = (lgxs >= 10.5)&(lgxs < 11)\n",
    "    \n",
    "    # Perform numerical integration using Simpson's rule\n",
    "    # number density of galaxies in three mass ranges\n",
    "    n1s[i] = simpson(phi[mask1], x=lgxs[mask1]) \n",
    "    n2s[i] = simpson(phi[mask2], x=lgxs[mask2]) \n",
    "    n3s[i] = simpson(phi[mask3], x=lgxs[mask3]) \n",
    "\n",
    "\n",
    "mpeak_lims = np.array([25, 26.3, 27])\n",
    "colors = [\"gray\", \"tab:red\", \"tab:green\"]\n",
    "linstyles = [\"--\", \"-\", \":\"]\n",
    "\n",
    "# Roman rate (per-yr) per each redshift bin, with difference peak magnitude!\n",
    "Ns = np.zeros((len(mpeak_lims), len(zs))) \n",
    "\n",
    "frac_area = 49 / (4*np.pi/np.pi**2*180**2)"
   ]
  },
  {
   "cell_type": "code",
   "execution_count": 6,
   "id": "d140c1b0-40bf-421c-bce4-6f42885310e0",
   "metadata": {},
   "outputs": [
    {
     "data": {
      "image/png": "[encoded data removed]",
      "text/plain": [
       "<Figure size 600x444.994 with 1 Axes>"
      ]
     },
     "metadata": {},
     "output_type": "display_data"
    }
   ],
   "source": [
    "plt.figure(figsize = (fig_width, fig_height*1.2))\n",
    "ax = plt.subplot(111)\n",
    "\n",
    "lines = []\n",
    "\n",
    "for i in range(len(mpeak_lims)):\n",
    "    mpeak_lim = mpeak_lims[i]\n",
    "    if mpeak_lim==27:\n",
    "        continue\n",
    "    mycolor = f\"C{i+3}\"\n",
    "    myls = linstyles[i]\n",
    "    # mylabel = r\"$m_{\\rm peak}<%d$\"%mpeak_lim\n",
    "    mylabel = fr\"{10 * [1, 7][i]}-day cadence \" + r\"($m_{\\rm peak}$\" + f\" < {mpeak_lim})\"\n",
    "    # if mpeak_lim==25:\n",
    "    #     mylabel = \"without proposal\"\n",
    "    # elif mpeak_lim==26:\n",
    "    #     mylabel = \"with proposal\"\n",
    "    # print (\"\")\n",
    "    # print (mylabel)\n",
    "    for j in range(len(zs)):\n",
    "        myz = zs[j]\n",
    "        zleft = zs_left[j]\n",
    "        zright = zs_right[j]\n",
    "        # comoving volume \n",
    "        D_L_Mpc = cosmo.luminosity_distance(myz).value\n",
    "        D_L_cm = D_L_Mpc * const.pc.cgs.value * 1e+6\n",
    "        \n",
    "        D_cd_Mpc_left = cosmo.comoving_distance(zleft).value\n",
    "        D_cd_Mpc_right = cosmo.comoving_distance(zright).value\n",
    "        V_c_Mpc3 = 4*np.pi/3 * (D_cd_Mpc_right**3 - D_cd_Mpc_left**3)\n",
    "        \n",
    "        frac_det1 = np.sum(mpeaks[grp==1,j]<mpeak_lim)\n",
    "        frac_det2 = np.sum(mpeaks[grp==2,j]<mpeak_lim)\n",
    "        frac_det3 = np.sum(mpeaks[grp==3,j]<mpeak_lim)\n",
    "        \n",
    "        N1 = n1s[j] * V_c_Mpc3 * r12_avg * frac_area * frac_det1\n",
    "        N2 = n2s[j] * V_c_Mpc3 * r12_avg * frac_area * frac_det2\n",
    "        N3 = n3s[j] * V_c_Mpc3 * r3_avg * frac_area * frac_det3\n",
    "        \n",
    "        Ns[i, j] = N1 + N2 + N3\n",
    "\n",
    "        # if j==0:\n",
    "        ax.plot([zleft, zright], [Ns[i, j], Ns[i, j]], color = mycolor, linestyle = myls)\n",
    "            # ax.fill_between([zleft, zright], [0, 0], [Ns[i, j], Ns[i, j]], color = mycolor, linestyle = myls, alpha=0.2)\n",
    "        # else:\n",
    "        #     ax.plot([zleft, zright], [Ns[i, j], Ns[i, j]], color = mycolor, linestyle = myls)\n",
    "        if j > 0:\n",
    "            ax.plot([zleft, zs_right[j-1]], [Ns[i, j], Ns[i, j-1]], color = mycolor, linestyle = myls)\n",
    "        ax.fill_between([zleft, zright], [0, 0], [Ns[i, j], Ns[i, j]], color = mycolor, linestyle = myls, alpha=0.2)\n",
    "        # print (myz, N1, N2, N3)\n",
    "\n",
    "    # mylabel += r\" [$N_{\\rm TDE}$\" + f\" = {int(Ns[i].sum())} TDEs per year]\"\n",
    "    mylabel += f\" [{int(Ns[i].sum())} TDEs per year]\"\n",
    "\n",
    "\n",
    "    lines.append(Line2D([0], [0], label=mylabel, color=mycolor))\n",
    "\n",
    "\n",
    "# add manual symbols to auto legend\n",
    "handles, labels = ax.get_legend_handles_labels()\n",
    "handles.extend(lines)\n",
    "ax.legend(bbox_to_anchor=(0.5,1.2), ncols=1, handles=handles, loc='center')\n",
    "        \n",
    "# ax.semilogy()\n",
    "ax.set_xlabel(\"Redshift\")\n",
    "ax.set_ylabel(\"Roman detection rate (\"+r\"$\\rm yr^{-1})$\")\n",
    "ymin, ymax = ax.get_ylim()\n",
    "ymin = max(ymin, 0.2)\n",
    "ax.set_ylim(ymin, ymax)\n",
    "ax.tick_params(which = 'major', length = 4, top=True, direction = \"in\", right = True)\n",
    "ax.tick_params(which = 'minor', length = 2, top=True, direction = \"in\", right = True)\n",
    "ax.set_xlim(left=zs_left[0], right=zs_right[-1])\n",
    "plt.tight_layout()\n",
    "plt.savefig(\"./figs/nuclear_tde_rate.pdf\", dpi=300., bbox_inches='tight')"
   ]
  },
  {
   "cell_type": "code",
   "execution_count": 7,
   "id": "8cd123b2-097b-46a8-91b7-57571ee240d9",
   "metadata": {},
   "outputs": [
    {
     "name": "stdout",
     "output_type": "stream",
     "text": [
      "14.080390446199255 569.5806537813339\n"
     ]
    },
    {
     "data": {
      "text/plain": [
       "np.float64(40.4520496755885)"
      ]
     },
     "execution_count": 7,
     "metadata": {},
     "output_type": "execute_result"
    }
   ],
   "source": [
    "mask = zs > 3.0\n",
    "\n",
    "print(Ns[0][mask].sum(), Ns[1][mask].sum())\n",
    "Ns[1][mask].sum()/Ns[0][mask].sum()"
   ]
  },
  {
   "cell_type": "code",
   "execution_count": 8,
   "id": "1eb6d7dd-877d-4448-929e-8882bb38a384",
   "metadata": {},
   "outputs": [
    {
     "data": {
      "text/plain": [
       "array([0.16666667, 0.5       , 0.83333333, 1.16666667, 1.5       ,\n",
       "       1.83333333, 2.16666667, 2.5       , 2.83333333, 3.16666667,\n",
       "       3.5       , 3.83333333, 4.16666667, 4.5       , 4.83333333,\n",
       "       5.16666667, 5.5       , 5.83333333])"
      ]
     },
     "execution_count": 8,
     "metadata": {},
     "output_type": "execute_result"
    }
   ],
   "source": [
    "zs"
   ]
  },
  {
   "cell_type": "code",
   "execution_count": null,
   "id": "fa6478b0-9833-46dd-a1a4-073ea2d0f538",
   "metadata": {},
   "outputs": [],
   "source": []
  },
  {
   "cell_type": "code",
   "execution_count": 9,
   "id": "ab4488f0-2cd3-411c-9c5b-0560e30fe3bd",
   "metadata": {},
   "outputs": [
    {
     "data": {
      "text/plain": [
       "array([0.33333333, 0.66666667, 1.        , 1.33333333, 1.66666667,\n",
       "       2.        , 2.33333333, 2.66666667, 3.        , 3.33333333,\n",
       "       3.66666667, 4.        , 4.33333333, 4.66666667, 5.        ,\n",
       "       5.33333333, 5.66666667, 6.        ])"
      ]
     },
     "execution_count": 9,
     "metadata": {},
     "output_type": "execute_result"
    }
   ],
   "source": [
    "zs_left\n",
    "zs_right"
   ]
  },
  {
   "cell_type": "code",
   "execution_count": 10,
   "id": "a10611b8-995a-4f54-9d6c-e8fd012020be",
   "metadata": {},
   "outputs": [
    {
     "data": {
      "text/plain": [
       "1.588235294117647"
      ]
     },
     "execution_count": 10,
     "metadata": {},
     "output_type": "execute_result"
    }
   ],
   "source": [
    "27./17."
   ]
  },
  {
   "cell_type": "code",
   "execution_count": 11,
   "id": "c9132a8b-5d17-4aaa-be76-b311f3c274f9",
   "metadata": {},
   "outputs": [
    {
     "data": {
      "text/plain": [
       "array([0.33333333, 0.66666667, 1.        , 1.33333333, 1.66666667,\n",
       "       2.        , 2.33333333, 2.66666667, 3.        , 3.33333333,\n",
       "       3.66666667, 4.        , 4.33333333, 4.66666667, 5.        ,\n",
       "       5.33333333, 5.66666667, 6.        ])"
      ]
     },
     "execution_count": 11,
     "metadata": {},
     "output_type": "execute_result"
    }
   ],
   "source": [
    "zs_right"
   ]
  },
  {
   "cell_type": "code",
   "execution_count": 12,
   "id": "3151d976-360d-4495-8a8d-0a9329732808",
   "metadata": {},
   "outputs": [
    {
     "data": {
      "text/plain": [
       "array([0.        , 0.33333333, 0.66666667, 1.        , 1.33333333,\n",
       "       1.66666667, 2.        , 2.33333333, 2.66666667, 3.        ,\n",
       "       3.33333333, 3.66666667, 4.        , 4.33333333, 4.66666667,\n",
       "       5.        , 5.33333333, 5.66666667])"
      ]
     },
     "execution_count": 12,
     "metadata": {},
     "output_type": "execute_result"
    }
   ],
   "source": [
    "zs_left"
   ]
  },
  {
   "cell_type": "code",
   "execution_count": 13,
   "id": "e96b64aa-90f2-4797-adec-40b21b61406a",
   "metadata": {},
   "outputs": [
    {
     "data": {
      "text/plain": [
       "array([0.16666667, 0.5       , 0.83333333, 1.16666667, 1.5       ,\n",
       "       1.83333333, 2.16666667, 2.5       , 2.83333333, 3.16666667,\n",
       "       3.5       , 3.83333333, 4.16666667, 4.5       , 4.83333333,\n",
       "       5.16666667, 5.5       , 5.83333333])"
      ]
     },
     "execution_count": 13,
     "metadata": {},
     "output_type": "execute_result"
    }
   ],
   "source": [
    "zs"
   ]
  },
  {
   "cell_type": "code",
   "execution_count": null,
   "id": "0ccaa457-9998-4d21-9371-459cbcefdd06",
   "metadata": {},
   "outputs": [],
   "source": []
  }
 ],
 "metadata": {
  "kernelspec": {
   "display_name": "romantde",
   "language": "python",
   "name": "romantde"
  },
  "language_info": {
   "codemirror_mode": {
    "name": "ipython",
    "version": 3
   },
   "file_extension": ".py",
   "mimetype": "text/x-python",
   "name": "python",
   "nbconvert_exporter": "python",
   "pygments_lexer": "ipython3",
   "version": "3.12.9"
  }
 },
 "nbformat": 4,
 "nbformat_minor": 5
}
